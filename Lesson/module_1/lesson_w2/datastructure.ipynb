{
 "cells": [
  {
   "cell_type": "markdown",
   "metadata": {},
   "source": [
    "# 1 String_atd"
   ]
  },
  {
   "cell_type": "code",
   "execution_count": 1,
   "metadata": {},
   "outputs": [
    {
     "name": "stdout",
     "output_type": "stream",
     "text": [
      "AI\n"
     ]
    }
   ],
   "source": [
    "name = \"AI\"\n",
    "print(name)\n"
   ]
  },
  {
   "cell_type": "code",
   "execution_count": 3,
   "metadata": {},
   "outputs": [
    {
     "name": "stdout",
     "output_type": "stream",
     "text": [
      "A\n",
      "I\n"
     ]
    }
   ],
   "source": [
    "# iterate a string\n",
    "name = \"AI\"\n",
    "for character in name:\n",
    "    print(character)"
   ]
  },
  {
   "cell_type": "code",
   "execution_count": 4,
   "metadata": {},
   "outputs": [
    {
     "name": "stdout",
     "output_type": "stream",
     "text": [
      "A\n",
      "I\n"
     ]
    }
   ],
   "source": [
    "# iterate a string \n",
    "name = \"AI\"\n",
    "length = 2 \n",
    "for index in range(length):\n",
    "    print(name[index])"
   ]
  },
  {
   "cell_type": "markdown",
   "metadata": {},
   "source": [
    "# Case study"
   ]
  },
  {
   "cell_type": "code",
   "execution_count": 5,
   "metadata": {},
   "outputs": [
    {
     "name": "stdout",
     "output_type": "stream",
     "text": [
      "uct.ac.za\n"
     ]
    }
   ],
   "source": [
    "str = 'From stephen.marquard@uct.ac.za Sat Jan 5 09:14:16 2008'\n",
    "atpos = str.find(\"@\")\n",
    "sppos = str.find(\" \", atpos)\n",
    "host = str[atpos+1 : sppos]\n",
    "print(host)"
   ]
  },
  {
   "cell_type": "code",
   "execution_count": 6,
   "metadata": {},
   "outputs": [
    {
     "name": "stdout",
     "output_type": "stream",
     "text": [
      "I, like, AIVN, 0x112e62840\n",
      "I, like, AIVN, very much, 0x112e62840\n"
     ]
    }
   ],
   "source": [
    "words = [\"I\", \"like\", \"AIVN\"]\n",
    "for w in words:\n",
    "    # printin the elements from list cities, separated by a comma & space\n",
    "    print(w, end=', ')\n",
    "# printing th location of th object created in the memory address in hexadeciamal format\n",
    "print(hex(id(words)))\n",
    "\n",
    "# adding a new word\n",
    "words.append(\"very much\")\n",
    "for w in words:\n",
    "    print(w, end=\", \")\n",
    "print(hex(id(words)))"
   ]
  },
  {
   "cell_type": "code",
   "execution_count": 7,
   "metadata": {},
   "outputs": [
    {
     "name": "stdout",
     "output_type": "stream",
     "text": [
      "Ilike AIVN\n"
     ]
    },
    {
     "ename": "TypeError",
     "evalue": "'str' object does not support item assignment",
     "output_type": "error",
     "traceback": [
      "\u001b[0;31m---------------------------------------------------------------------------\u001b[0m",
      "\u001b[0;31mTypeError\u001b[0m                                 Traceback (most recent call last)",
      "Cell \u001b[0;32mIn[7], line 3\u001b[0m\n\u001b[1;32m      1\u001b[0m words \u001b[38;5;241m=\u001b[39m \u001b[38;5;124m\"\u001b[39m\u001b[38;5;124mIlike AIVN\u001b[39m\u001b[38;5;124m\"\u001b[39m\n\u001b[1;32m      2\u001b[0m \u001b[38;5;28mprint\u001b[39m(words)\n\u001b[0;32m----> 3\u001b[0m words[\u001b[38;5;28mlen\u001b[39m(words)] \u001b[38;5;241m=\u001b[39m \u001b[38;5;124m\"\u001b[39m\u001b[38;5;124m!\u001b[39m\u001b[38;5;124m\"\u001b[39m\n",
      "\u001b[0;31mTypeError\u001b[0m: 'str' object does not support item assignment"
     ]
    }
   ],
   "source": [
    "words = \"Ilike AIVN\"\n",
    "print(words)\n",
    "words[len(words)] = \"!\""
   ]
  },
  {
   "cell_type": "code",
   "execution_count": 8,
   "metadata": {},
   "outputs": [
    {
     "name": "stdout",
     "output_type": "stream",
     "text": [
      "i = 4376009328\n",
      "  = 4376005240\n",
      "l = 4376009496\n",
      "i = 4376009328\n",
      "k = 4376009440\n",
      "e = 4376009104\n",
      "  = 4376005240\n",
      "a = 4376008880\n",
      "i = 4376009328\n",
      "v = 4376010056\n",
      "n = 4376009608\n"
     ]
    }
   ],
   "source": [
    "words = \"i like aivn\"\n",
    "\n",
    "for idx in range (0,len(words)):\n",
    "    print(words[idx], \"=\", id(words[idx]))\n",
    "    "
   ]
  },
  {
   "cell_type": "code",
   "execution_count": null,
   "metadata": {},
   "outputs": [],
   "source": []
  }
 ],
 "metadata": {
  "kernelspec": {
   "display_name": "Python 3",
   "language": "python",
   "name": "python3"
  },
  "language_info": {
   "codemirror_mode": {
    "name": "ipython",
    "version": 3
   },
   "file_extension": ".py",
   "mimetype": "text/x-python",
   "name": "python",
   "nbconvert_exporter": "python",
   "pygments_lexer": "ipython3",
   "version": "3.11.5"
  }
 },
 "nbformat": 4,
 "nbformat_minor": 2
}
