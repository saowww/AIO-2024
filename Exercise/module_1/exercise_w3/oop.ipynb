{
 "cells": [
  {
   "cell_type": "code",
   "execution_count": null,
   "metadata": {},
   "outputs": [],
   "source": [
    "class Ward:\n",
    "    def __init__(self, name):\n",
    "        self.__name = name\n",
    "        self.__list_people = list()\n",
    "    def add_person(self, person: Person):\n",
    "        self.__list_peopleappend(person)\n",
    "    def describe(self):\n",
    "        "
   ]
  }
 ],
 "metadata": {
  "language_info": {
   "name": "python"
  }
 },
 "nbformat": 4,
 "nbformat_minor": 2
}
